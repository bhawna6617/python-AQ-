{
 "cells": [
  {
   "cell_type": "markdown",
   "id": "41a5cfec",
   "metadata": {},
   "source": [
    "# queston 1"
   ]
  },
  {
   "cell_type": "code",
   "execution_count": 1,
   "id": "c4818e02",
   "metadata": {},
   "outputs": [],
   "source": [
    "# class :-A class is considered as a blueprint of objects.We can think of the class as a sketch (prototype) of a house. It contains all the details about the floors, doors, windows, etc. Based on these descriptions we build the house. House is the object."
   ]
  },
  {
   "cell_type": "code",
   "execution_count": 2,
   "id": "042bfc8f",
   "metadata": {},
   "outputs": [],
   "source": [
    "# syntax of class =class ClassName:\n",
    "    # class definition "
   ]
  },
  {
   "cell_type": "code",
   "execution_count": 3,
   "id": "952a27f9",
   "metadata": {},
   "outputs": [],
   "source": [
    "# object :-An object is called an instance of a class. For example, suppose Bike is a class then we can create objects like bike1, bike2, etc from the class."
   ]
  },
  {
   "cell_type": "code",
   "execution_count": 4,
   "id": "7a1547ed",
   "metadata": {},
   "outputs": [],
   "source": [
    "#syntax =objectName = ClassName()"
   ]
  },
  {
   "cell_type": "code",
   "execution_count": 5,
   "id": "5d4dc22c",
   "metadata": {},
   "outputs": [
    {
     "name": "stdout",
     "output_type": "stream",
     "text": [
      "Name: Mountain Bike, Gears: 11 \n"
     ]
    }
   ],
   "source": [
    "# example of class and object \n",
    "\n",
    "# define a class\n",
    "class Bike:\n",
    "    name = \"\"\n",
    "    gear = 0\n",
    "\n",
    "# create object of class\n",
    "bike1 = Bike()\n",
    "\n",
    "# access attributes and assign new values\n",
    "bike1.gear = 11\n",
    "bike1.name = \"Mountain Bike\"\n",
    "\n",
    "print(f\"Name: {bike1.name}, Gears: {bike1.gear} \")\n",
    "\n"
   ]
  },
  {
   "cell_type": "markdown",
   "id": "ebcb9ef6",
   "metadata": {},
   "source": [
    "# question 2"
   ]
  },
  {
   "cell_type": "code",
   "execution_count": 6,
   "id": "5131d37a",
   "metadata": {},
   "outputs": [],
   "source": [
    "# there are four pillars of oop\n",
    "#1.Abstraction.\n",
    "#2.Encapsulation.\n",
    "#3.Inheritance.\n",
    "#4.Polymorphism."
   ]
  },
  {
   "cell_type": "markdown",
   "id": "3d71b07d",
   "metadata": {},
   "source": [
    "# question 3"
   ]
  },
  {
   "cell_type": "code",
   "execution_count": 7,
   "id": "1724922d",
   "metadata": {},
   "outputs": [],
   "source": [
    "#  __init__ is a special python method that runs whenever a new object is created. These types of functions are used to initialize the attributes of that class, E.g., if the class is Person, then the attributes will be name, age, etc."
   ]
  },
  {
   "cell_type": "code",
   "execution_count": 9,
   "id": "6d1e920f",
   "metadata": {},
   "outputs": [
    {
     "name": "stdout",
     "output_type": "stream",
     "text": [
      "aayu\n",
      "19\n"
     ]
    }
   ],
   "source": [
    "# example\n",
    "class person:\n",
    "    def __init__(self , name ,age):\n",
    "        self.name = name\n",
    "        self .age = age\n",
    "        \n",
    "p1 = person(\"aayu\",19)\n",
    "\n",
    "print(p1.name)\n",
    "print(p1.age)"
   ]
  },
  {
   "cell_type": "markdown",
   "id": "63b92fd2",
   "metadata": {},
   "source": [
    "# question 4"
   ]
  },
  {
   "cell_type": "code",
   "execution_count": 10,
   "id": "a735b463",
   "metadata": {},
   "outputs": [],
   "source": [
    "#The self parameter is a reference to the current instance of the class, and is used to access variables that belongs to the class.\n",
    "\n",
    "#It does not have to be named self , you can call it whatever you like, but it has to be the first parameter of any function in the class:"
   ]
  },
  {
   "cell_type": "markdown",
   "id": "a0ad594d",
   "metadata": {},
   "source": [
    "# question 5"
   ]
  },
  {
   "cell_type": "code",
   "execution_count": 11,
   "id": "70c3d836",
   "metadata": {},
   "outputs": [],
   "source": [
    "# Inheritance is a mechanism in which one class acquires the property of another class. For example, a child inherits the traits of his/her parents. With inheritance, we can reuse the fields and methods of the existing class. "
   ]
  },
  {
   "cell_type": "code",
   "execution_count": 12,
   "id": "ad98b536",
   "metadata": {},
   "outputs": [],
   "source": [
    "# five type of inheritance \n",
    "# 1. simple inheeritance ;- it give one base class and one derived class\n",
    "# 2. multiple inheritance \n",
    "#3.multi-level inheritance\n",
    "#4. heriarchal inhertance\n",
    "# 5. hybrid inhertance"
   ]
  },
  {
   "cell_type": "code",
   "execution_count": 13,
   "id": "cc22da89",
   "metadata": {},
   "outputs": [
    {
     "name": "stdout",
     "output_type": "stream",
     "text": [
      "This function is in parent class.\n",
      "This function is in child class.\n"
     ]
    }
   ],
   "source": [
    "# example 1.simple inheritance\n",
    "\n",
    "class Parent:\n",
    "    def func1(self):\n",
    "        print(\"This function is in parent class.\")\n",
    " \n",
    "\n",
    " \n",
    " \n",
    "class Child(Parent):\n",
    "    def func2(self):\n",
    "        print(\"This function is in child class.\")\n",
    " \n",
    " \n",
    "\n",
    "object = Child()\n",
    "object.func1()\n",
    "object.func2()\n"
   ]
  },
  {
   "cell_type": "code",
   "execution_count": 14,
   "id": "38217a86",
   "metadata": {},
   "outputs": [
    {
     "name": "stdout",
     "output_type": "stream",
     "text": [
      "Father : RAM\n",
      "Mother : SITA\n"
     ]
    }
   ],
   "source": [
    "# example 2.multiple inheritance\n",
    "\n",
    "class Mother:\n",
    "    mothername = \"\"\n",
    " \n",
    "    def mother(self):\n",
    "        print(self.mothername)\n",
    " \n",
    "# Base class2\n",
    " \n",
    " \n",
    "class Father:\n",
    "    fathername = \"\"\n",
    " \n",
    "    def father(self):\n",
    "        print(self.fathername)\n",
    " \n",
    "# Derived class\n",
    " \n",
    " \n",
    "class Son(Mother, Father):\n",
    "    def parents(self):\n",
    "        print(\"Father :\", self.fathername)\n",
    "        print(\"Mother :\", self.mothername)\n",
    " \n",
    " \n",
    "# Driver's code\n",
    "s1 = Son()\n",
    "s1.fathername = \"RAM\"\n",
    "s1.mothername = \"SITA\"\n",
    "s1.parents()\n"
   ]
  },
  {
   "cell_type": "code",
   "execution_count": null,
   "id": "3189cb98",
   "metadata": {},
   "outputs": [],
   "source": [
    "# these are the example of inheritance\n",
    "\n"
   ]
  }
 ],
 "metadata": {
  "kernelspec": {
   "display_name": "Python 3 (ipykernel)",
   "language": "python",
   "name": "python3"
  },
  "language_info": {
   "codemirror_mode": {
    "name": "ipython",
    "version": 3
   },
   "file_extension": ".py",
   "mimetype": "text/x-python",
   "name": "python",
   "nbconvert_exporter": "python",
   "pygments_lexer": "ipython3",
   "version": "3.11.3"
  }
 },
 "nbformat": 4,
 "nbformat_minor": 5
}
